{
 "cells": [
  {
   "cell_type": "code",
   "execution_count": 1,
   "metadata": {},
   "outputs": [],
   "source": [
    "import json\n",
    "import hashlib\n",
    "from algosdk.v2client import algod\n",
    "from algosdk import account, mnemonic\n",
    "from algosdk.future.transaction import AssetConfigTxn, AssetTransferTxn, AssetFreezeTxn, wait_for_confirmation"
   ]
  },
  {
   "cell_type": "markdown",
   "metadata": {},
   "source": [
    "Create Asset"
   ]
  },
  {
   "cell_type": "code",
   "execution_count": 2,
   "metadata": {},
   "outputs": [],
   "source": [
    "algod_token = \"2f3203f21e738a1de6110eba6984f9d03e5a95d7a577b34616854064cf2c0e7b\"\n",
    "algod_address = \"https://academy-algod.dev.aws.algodev.network/\"\n",
    "algod_client = algod.AlgodClient(algod_token, algod_address)"
   ]
  },
  {
   "cell_type": "code",
   "execution_count": 7,
   "metadata": {},
   "outputs": [],
   "source": [
    "def print_created_asset(algodclient, account, assetid):\n",
    "  # note: if you have an indexer instance available it is easier to just use this\n",
    "  # response = myindexer.accounts(asset_id = assetid)\n",
    "  # then use 'account_info['created-assets'][0] to get info on the created asset\n",
    "  account_info = algodclient.account_info(account)\n",
    "  idx = 0\n",
    "  for my_account_info in account_info['created-assets']:\n",
    "    scrutinized_asset = account_info['created-assets'][idx]\n",
    "    idx = idx + 1       \n",
    "    if (scrutinized_asset['index'] == assetid):\n",
    "      print(\"Asset ID: {}\".format(scrutinized_asset['index']))\n",
    "      print(json.dumps(my_account_info['params'], indent=4))\n",
    "      break\n",
    "\n",
    "#   Utility function used to print asset holding for account and assetid\n",
    "def print_asset_holding(algodclient, account, assetid):\n",
    "    # note: if you have an indexer instance available it is easier to just use this\n",
    "    # response = myindexer.accounts(asset_id = assetid)\n",
    "    # then loop thru the accounts returned and match the account you are looking for\n",
    "    account_info = algodclient.account_info(account)\n",
    "    idx = 0\n",
    "    for my_account_info in account_info['assets']:\n",
    "        scrutinized_asset = account_info['assets'][idx]\n",
    "        idx = idx + 1        \n",
    "        if (scrutinized_asset['asset-id'] == assetid):\n",
    "            print(\"Asset ID: {}\".format(scrutinized_asset['asset-id']))\n",
    "            print(json.dumps(scrutinized_asset, indent=4))\n",
    "            break"
   ]
  },
  {
   "cell_type": "code",
   "execution_count": 21,
   "metadata": {},
   "outputs": [],
   "source": [
    "# accepts the mnemonic\n",
    "def create_asset(m,receiver_pk):  \n",
    "  accounts = {}\n",
    "  accounts[1] = {}\n",
    "  accounts[1]['pk'] = mnemonic.to_public_key(m)\n",
    "  accounts[1]['sk'] = mnemonic.to_private_key(m)\n",
    "\n",
    "  print(\"--------------------------------------------\")\n",
    "  print(\"Creating Asset...\")\n",
    "  # CREATE ASSET\n",
    "  # Get network params for transactions before every transaction.\n",
    "  params = algod_client.suggested_params()\n",
    "  # comment these two lines if you want to use suggested params\n",
    "  # params.fee = 1000\n",
    "  # params.flat_fee = True\n",
    "    \n",
    "  # JSON file\n",
    "#   dir_path = os.path.dirname(os.path.realpath(__file__))\n",
    "#   f = open (dir_path + '/NFT/metadata.json', \"r\")\n",
    "  f = open ('../NFT_py/NFT/metadata.json', \"r\")\n",
    "\n",
    "\n",
    "  \n",
    "  # Reading from file\n",
    "  metadataJSON = json.loads(f.read())\n",
    "  metadataStr = json.dumps(metadataJSON)\n",
    "\n",
    "  hash = hashlib.new(\"sha512_256\")\n",
    "  hash.update(b\"arc0003/amj\")\n",
    "  hash.update(metadataStr.encode(\"utf-8\"))\n",
    "  json_metadata_hash = hash.digest()\n",
    "\n",
    "\n",
    "  # Account 1 creates an asset called latinum and\n",
    "  # sets Account 1 as the manager, reserve, freeze, and clawback address.\n",
    "  # Asset Creation transaction\n",
    "  txn = AssetConfigTxn(\n",
    "      sender=accounts[1]['pk'],\n",
    "      sp=params,\n",
    "      total=1,\n",
    "      default_frozen=False,\n",
    "      unit_name=\"ALICE001\",\n",
    "      asset_name=\"Alice's Artwork 001\",\n",
    "      manager=accounts[1]['pk'],\n",
    "      reserve=receiver_pk,\n",
    "      freeze=None,\n",
    "      clawback=None,\n",
    "      strict_empty_address_check=False,\n",
    "      url=\"https://path/to/my/asset/details\", \n",
    "      metadata_hash=json_metadata_hash,\n",
    "      decimals=0)\n",
    "\n",
    "  # Sign with secret key of creator\n",
    "  stxn = txn.sign(accounts[1]['sk'])\n",
    "\n",
    "  # Send the transaction to the network and retrieve the txid.\n",
    "  txid = algod_client.send_transaction(stxn)\n",
    "  print(\"Asset Creation Transaction ID: {}\".format(txid))\n",
    "\n",
    "\n",
    "  # Wait for the transaction to be confirmed\n",
    "  confirmed_txn = wait_for_confirmation(algod_client, txid, 4)  \n",
    "  print(\"TXID: \", txid)\n",
    "  print(\"Result confirmed in round: {}\".format(confirmed_txn['confirmed-round']))\n",
    "  try:\n",
    "      # Pull account info for the creator\n",
    "      # account_info = algod_client.account_info(accounts[1]['pk'])\n",
    "      # get asset_id from tx\n",
    "      # Get the new asset's information from the creator account\n",
    "      ptx = algod_client.pending_transaction_info(txid)\n",
    "      asset_id = ptx[\"asset-index\"]\n",
    "      print_created_asset(algod_client, accounts[1]['pk'], asset_id)\n",
    "      print_asset_holding(algod_client, accounts[1]['pk'], asset_id)\n",
    "  except Exception as e:\n",
    "      print(e)\n"
   ]
  },
  {
   "cell_type": "code",
   "execution_count": 3,
   "metadata": {},
   "outputs": [],
   "source": [
    "# OPT-IN\n",
    "def opt_in(trainee_m,asset_id):\n",
    "\n",
    "    # Check if asset_id is in account 3's asset holdings prior\n",
    "    # to opt-in\n",
    "    trainee_sk=mnemonic.to_private_key(trainee_m)\n",
    "    trainee_pk=mnemonic.to_public_key(trainee_m)\n",
    "    params = algod_client.suggested_params()\n",
    "    # comment these two lines if you want to use suggested params\n",
    "    params.fee = 1000\n",
    "    params.flat_fee = True\n",
    "\n",
    "\n",
    "    # Use the AssetTransferTxn class to transfer assets and opt-in\n",
    "    txn = AssetTransferTxn(\n",
    "        sender=trainee_pk,\n",
    "        sp=params,\n",
    "        receiver=trainee_pk,\n",
    "        amt=0,\n",
    "        index=asset_id)\n",
    "    stxn = txn.sign(trainee_sk)\n",
    "    txid = algod_client.send_transaction(stxn)\n",
    "    print(txid)\n",
    "    # Wait for the transaction to be confirmed\n",
    "    wait_for_confirmation(algod_client, txid)\n",
    "    # Now check the asset holding for that account.\n",
    "    # This should now show a holding with a balance of 0.\n",
    "    print_asset_holding(algod_client, trainee_pk, asset_id)"
   ]
  },
  {
   "cell_type": "code",
   "execution_count": 6,
   "metadata": {},
   "outputs": [],
   "source": [
    "# TRANSFER ASSET\n",
    "def transfer_asset(sender_m,receiver_pk,asset_id):\n",
    "\n",
    "    sender_pk=mnemonic.to_public_key(sender_m)\n",
    "    sender_sk=mnemonic.to_private_key(sender_m)\n",
    "\n",
    "    # transfer asset of 10 from account 1 to account 3\n",
    "    params = algod_client.suggested_params()\n",
    "    # comment these two lines if you want to use suggested params\n",
    "    params.fee = 1000\n",
    "    params.flat_fee = True\n",
    "    txn = AssetTransferTxn(\n",
    "        sender=sender_pk,\n",
    "        sp=params,\n",
    "        receiver=receiver_pk,\n",
    "        amt=1,\n",
    "        index=asset_id)\n",
    "    stxn = txn.sign(sender_sk)\n",
    "    txid = algod_client.send_transaction(stxn)\n",
    "    print(txid)\n",
    "    # Wait for the transaction to be confirmed\n",
    "    wait_for_confirmation(algod_client, txid)\n",
    "    # The balance should now be 10.\n",
    "    print_asset_holding(algod_client, receiver_pk, asset_id)"
   ]
  },
  {
   "cell_type": "markdown",
   "metadata": {},
   "source": [
    "## sender"
   ]
  },
  {
   "cell_type": "code",
   "execution_count": 18,
   "metadata": {},
   "outputs": [
    {
     "name": "stdout",
     "output_type": "stream",
     "text": [
      "My address: EUVBE6MISEX3QLZYERRCPJBJYXXSXM3GQU5DY6EEO7VGAHBFFEZLMXVET4\n",
      "Account balance: 0 microAlgos\n",
      "\n",
      "Go to the below link to fund the created account using testnet faucet: \n",
      " https://dispenser.testnet.aws.algodev.network/?account=EUVBE6MISEX3QLZYERRCPJBJYXXSXM3GQU5DY6EEO7VGAHBFFEZLMXVET4\n",
      "Fund transfer in process...\n",
      "Fund transferred!\n",
      "Account balance: 5000000 microAlgos\n",
      "\n"
     ]
    }
   ],
   "source": [
    "import os,sys\n",
    "cwd = os.getcwd()\n",
    "sys.path.append(f'../NFT_py/')\n",
    "from create_account import create_account\n",
    "m=create_account()"
   ]
  },
  {
   "cell_type": "markdown",
   "metadata": {},
   "source": [
    "## receiver"
   ]
  },
  {
   "cell_type": "code",
   "execution_count": 20,
   "metadata": {},
   "outputs": [
    {
     "name": "stdout",
     "output_type": "stream",
     "text": [
      "My address: JLPXYTO2Z5KJWBG2HJLJHJYCRUNDU2AH6QQOYWA6G6CCGN6NJYSBR62CGA\n",
      "Account balance: 0 microAlgos\n",
      "\n",
      "Go to the below link to fund the created account using testnet faucet: \n",
      " https://dispenser.testnet.aws.algodev.network/?account=JLPXYTO2Z5KJWBG2HJLJHJYCRUNDU2AH6QQOYWA6G6CCGN6NJYSBR62CGA\n",
      "Fund transfer in process...\n",
      "Fund transferred!\n",
      "Account balance: 5000000 microAlgos\n",
      "\n"
     ]
    }
   ],
   "source": [
    "receiver=create_account()"
   ]
  },
  {
   "cell_type": "code",
   "execution_count": 22,
   "metadata": {},
   "outputs": [],
   "source": [
    "receiver_pk=\"JLPXYTO2Z5KJWBG2HJLJHJYCRUNDU2AH6QQOYWA6G6CCGN6NJYSBR62CGA\""
   ]
  },
  {
   "cell_type": "code",
   "execution_count": 23,
   "metadata": {},
   "outputs": [
    {
     "name": "stdout",
     "output_type": "stream",
     "text": [
      "--------------------------------------------\n",
      "Creating Asset...\n",
      "Asset Creation Transaction ID: MB36A2KG2ZHD3K2OAEGF7AOT6RGO2UZJUORFFPHPIIC66CF57YJQ\n",
      "TXID:  MB36A2KG2ZHD3K2OAEGF7AOT6RGO2UZJUORFFPHPIIC66CF57YJQ\n",
      "Result confirmed in round: 24462866\n",
      "Asset ID: 113735460\n",
      "{\n",
      "    \"creator\": \"EUVBE6MISEX3QLZYERRCPJBJYXXSXM3GQU5DY6EEO7VGAHBFFEZLMXVET4\",\n",
      "    \"decimals\": 0,\n",
      "    \"default-frozen\": false,\n",
      "    \"manager\": \"EUVBE6MISEX3QLZYERRCPJBJYXXSXM3GQU5DY6EEO7VGAHBFFEZLMXVET4\",\n",
      "    \"metadata-hash\": \"5zAUYEQ+kEKv8VCUNu17DMVNzpzRrF7X9JUr+OEfgp4=\",\n",
      "    \"name\": \"Alice's Artwork 001\",\n",
      "    \"name-b64\": \"QWxpY2UncyBBcnR3b3JrIDAwMQ==\",\n",
      "    \"reserve\": \"JLPXYTO2Z5KJWBG2HJLJHJYCRUNDU2AH6QQOYWA6G6CCGN6NJYSBR62CGA\",\n",
      "    \"total\": 1,\n",
      "    \"unit-name\": \"ALICE001\",\n",
      "    \"unit-name-b64\": \"QUxJQ0UwMDE=\",\n",
      "    \"url\": \"https://path/to/my/asset/details\",\n",
      "    \"url-b64\": \"aHR0cHM6Ly9wYXRoL3RvL215L2Fzc2V0L2RldGFpbHM=\"\n",
      "}\n",
      "Asset ID: 113735460\n",
      "{\n",
      "    \"amount\": 1,\n",
      "    \"asset-id\": 113735460,\n",
      "    \"is-frozen\": false\n",
      "}\n"
     ]
    }
   ],
   "source": [
    "create_asset(m,receiver_pk)"
   ]
  },
  {
   "cell_type": "code",
   "execution_count": 29,
   "metadata": {},
   "outputs": [
    {
     "name": "stdout",
     "output_type": "stream",
     "text": [
      "J376TYWKEZXEXOPPF2GMAIYAVI6A2FDBLKCI67SWSWC46Z2EDYNQ\n",
      "Asset ID: 113735460\n",
      "{\n",
      "    \"amount\": 0,\n",
      "    \"asset-id\": 113735460,\n",
      "    \"is-frozen\": false\n",
      "}\n"
     ]
    }
   ],
   "source": [
    "opt_in(receiver,asset_id)"
   ]
  },
  {
   "cell_type": "code",
   "execution_count": 33,
   "metadata": {},
   "outputs": [
    {
     "name": "stdout",
     "output_type": "stream",
     "text": [
      "O4I6I3MADSBVJLGPGVI7BI2A6CJTKMPYZELEYXNWP4RIIVLQRNCQ\n",
      "Asset ID: 113735460\n",
      "{\n",
      "    \"amount\": 1,\n",
      "    \"asset-id\": 113735460,\n",
      "    \"is-frozen\": false\n",
      "}\n"
     ]
    }
   ],
   "source": [
    "transfer_asset(m,receiver_pk,asset_id)"
   ]
  },
  {
   "cell_type": "code",
   "execution_count": 34,
   "metadata": {},
   "outputs": [
    {
     "name": "stdout",
     "output_type": "stream",
     "text": [
      "--------------------------------------------\n",
      "Creating Asset...\n",
      "Asset Creation Transaction ID: QCF2NXOUUA2QEQDUGI2FCOOG4ECAZE3ZJ2XJM5IGF2O7VHYVHTQQ\n",
      "TXID:  QCF2NXOUUA2QEQDUGI2FCOOG4ECAZE3ZJ2XJM5IGF2O7VHYVHTQQ\n",
      "Result confirmed in round: 24463074\n",
      "Asset ID: 113736954\n",
      "{\n",
      "    \"creator\": \"EUVBE6MISEX3QLZYERRCPJBJYXXSXM3GQU5DY6EEO7VGAHBFFEZLMXVET4\",\n",
      "    \"decimals\": 0,\n",
      "    \"default-frozen\": false,\n",
      "    \"manager\": \"EUVBE6MISEX3QLZYERRCPJBJYXXSXM3GQU5DY6EEO7VGAHBFFEZLMXVET4\",\n",
      "    \"metadata-hash\": \"5zAUYEQ+kEKv8VCUNu17DMVNzpzRrF7X9JUr+OEfgp4=\",\n",
      "    \"name\": \"Alice's Artwork 001\",\n",
      "    \"name-b64\": \"QWxpY2UncyBBcnR3b3JrIDAwMQ==\",\n",
      "    \"total\": 1,\n",
      "    \"unit-name\": \"ALICE001\",\n",
      "    \"unit-name-b64\": \"QUxJQ0UwMDE=\",\n",
      "    \"url\": \"https://path/to/my/asset/details\",\n",
      "    \"url-b64\": \"aHR0cHM6Ly9wYXRoL3RvL215L2Fzc2V0L2RldGFpbHM=\"\n",
      "}\n",
      "Asset ID: 113736954\n",
      "{\n",
      "    \"amount\": 1,\n",
      "    \"asset-id\": 113736954,\n",
      "    \"is-frozen\": false\n",
      "}\n"
     ]
    }
   ],
   "source": [
    "create_asset(m,None)"
   ]
  },
  {
   "cell_type": "markdown",
   "metadata": {},
   "source": [
    "## transferring asset without optin results in error"
   ]
  },
  {
   "cell_type": "code",
   "execution_count": 35,
   "metadata": {},
   "outputs": [
    {
     "ename": "AlgodHTTPError",
     "evalue": "TransactionPool.Remember: transaction 2ATSOIPKG2PPRTQJ5EVCC7C2IDY5QRGLH3ALHRBBLUN3K5TFVPBQ: receiver error: must optin, asset 113736954 missing from JLPXYTO2Z5KJWBG2HJLJHJYCRUNDU2AH6QQOYWA6G6CCGN6NJYSBR62CGA",
     "output_type": "error",
     "traceback": [
      "\u001b[1;31m---------------------------------------------------------------------------\u001b[0m",
      "\u001b[1;31mHTTPError\u001b[0m                                 Traceback (most recent call last)",
      "File \u001b[1;32mc:\\Users\\Natnael\\AppData\\Local\\Programs\\Python\\Python310\\lib\\site-packages\\algosdk\\v2client\\algod.py:78\u001b[0m, in \u001b[0;36mAlgodClient.algod_request\u001b[1;34m(self, method, requrl, params, data, headers, response_format)\u001b[0m\n\u001b[0;32m     77\u001b[0m \u001b[39mtry\u001b[39;00m:\n\u001b[1;32m---> 78\u001b[0m     resp \u001b[39m=\u001b[39m urlopen(req)\n\u001b[0;32m     79\u001b[0m \u001b[39mexcept\u001b[39;00m urllib\u001b[39m.\u001b[39merror\u001b[39m.\u001b[39mHTTPError \u001b[39mas\u001b[39;00m e:\n",
      "File \u001b[1;32mc:\\Users\\Natnael\\AppData\\Local\\Programs\\Python\\Python310\\lib\\urllib\\request.py:216\u001b[0m, in \u001b[0;36murlopen\u001b[1;34m(url, data, timeout, cafile, capath, cadefault, context)\u001b[0m\n\u001b[0;32m    215\u001b[0m     opener \u001b[39m=\u001b[39m _opener\n\u001b[1;32m--> 216\u001b[0m \u001b[39mreturn\u001b[39;00m opener\u001b[39m.\u001b[39;49mopen(url, data, timeout)\n",
      "File \u001b[1;32mc:\\Users\\Natnael\\AppData\\Local\\Programs\\Python\\Python310\\lib\\urllib\\request.py:525\u001b[0m, in \u001b[0;36mOpenerDirector.open\u001b[1;34m(self, fullurl, data, timeout)\u001b[0m\n\u001b[0;32m    524\u001b[0m     meth \u001b[39m=\u001b[39m \u001b[39mgetattr\u001b[39m(processor, meth_name)\n\u001b[1;32m--> 525\u001b[0m     response \u001b[39m=\u001b[39m meth(req, response)\n\u001b[0;32m    527\u001b[0m \u001b[39mreturn\u001b[39;00m response\n",
      "File \u001b[1;32mc:\\Users\\Natnael\\AppData\\Local\\Programs\\Python\\Python310\\lib\\urllib\\request.py:634\u001b[0m, in \u001b[0;36mHTTPErrorProcessor.http_response\u001b[1;34m(self, request, response)\u001b[0m\n\u001b[0;32m    633\u001b[0m \u001b[39mif\u001b[39;00m \u001b[39mnot\u001b[39;00m (\u001b[39m200\u001b[39m \u001b[39m<\u001b[39m\u001b[39m=\u001b[39m code \u001b[39m<\u001b[39m \u001b[39m300\u001b[39m):\n\u001b[1;32m--> 634\u001b[0m     response \u001b[39m=\u001b[39m \u001b[39mself\u001b[39;49m\u001b[39m.\u001b[39;49mparent\u001b[39m.\u001b[39;49merror(\n\u001b[0;32m    635\u001b[0m         \u001b[39m'\u001b[39;49m\u001b[39mhttp\u001b[39;49m\u001b[39m'\u001b[39;49m, request, response, code, msg, hdrs)\n\u001b[0;32m    637\u001b[0m \u001b[39mreturn\u001b[39;00m response\n",
      "File \u001b[1;32mc:\\Users\\Natnael\\AppData\\Local\\Programs\\Python\\Python310\\lib\\urllib\\request.py:563\u001b[0m, in \u001b[0;36mOpenerDirector.error\u001b[1;34m(self, proto, *args)\u001b[0m\n\u001b[0;32m    562\u001b[0m args \u001b[39m=\u001b[39m (\u001b[39mdict\u001b[39m, \u001b[39m'\u001b[39m\u001b[39mdefault\u001b[39m\u001b[39m'\u001b[39m, \u001b[39m'\u001b[39m\u001b[39mhttp_error_default\u001b[39m\u001b[39m'\u001b[39m) \u001b[39m+\u001b[39m orig_args\n\u001b[1;32m--> 563\u001b[0m \u001b[39mreturn\u001b[39;00m \u001b[39mself\u001b[39;49m\u001b[39m.\u001b[39;49m_call_chain(\u001b[39m*\u001b[39;49margs)\n",
      "File \u001b[1;32mc:\\Users\\Natnael\\AppData\\Local\\Programs\\Python\\Python310\\lib\\urllib\\request.py:496\u001b[0m, in \u001b[0;36mOpenerDirector._call_chain\u001b[1;34m(self, chain, kind, meth_name, *args)\u001b[0m\n\u001b[0;32m    495\u001b[0m func \u001b[39m=\u001b[39m \u001b[39mgetattr\u001b[39m(handler, meth_name)\n\u001b[1;32m--> 496\u001b[0m result \u001b[39m=\u001b[39m func(\u001b[39m*\u001b[39;49margs)\n\u001b[0;32m    497\u001b[0m \u001b[39mif\u001b[39;00m result \u001b[39mis\u001b[39;00m \u001b[39mnot\u001b[39;00m \u001b[39mNone\u001b[39;00m:\n",
      "File \u001b[1;32mc:\\Users\\Natnael\\AppData\\Local\\Programs\\Python\\Python310\\lib\\urllib\\request.py:643\u001b[0m, in \u001b[0;36mHTTPDefaultErrorHandler.http_error_default\u001b[1;34m(self, req, fp, code, msg, hdrs)\u001b[0m\n\u001b[0;32m    642\u001b[0m \u001b[39mdef\u001b[39;00m \u001b[39mhttp_error_default\u001b[39m(\u001b[39mself\u001b[39m, req, fp, code, msg, hdrs):\n\u001b[1;32m--> 643\u001b[0m     \u001b[39mraise\u001b[39;00m HTTPError(req\u001b[39m.\u001b[39mfull_url, code, msg, hdrs, fp)\n",
      "\u001b[1;31mHTTPError\u001b[0m: HTTP Error 400: Bad Request",
      "\nDuring handling of the above exception, another exception occurred:\n",
      "\u001b[1;31mAlgodHTTPError\u001b[0m                            Traceback (most recent call last)",
      "\u001b[1;32md:\\Projects\\Personal\\python\\10 Academy\\all-week test\\Week 6\\notebooks\\asset.ipynb Cell 18\u001b[0m in \u001b[0;36m<cell line: 2>\u001b[1;34m()\u001b[0m\n\u001b[0;32m      <a href='vscode-notebook-cell:/d%3A/Projects/Personal/python/10%20Academy/all-week%20test/Week%206/notebooks/asset.ipynb#X23sZmlsZQ%3D%3D?line=0'>1</a>\u001b[0m asset_id2\u001b[39m=\u001b[39m\u001b[39m113736954\u001b[39m\n\u001b[1;32m----> <a href='vscode-notebook-cell:/d%3A/Projects/Personal/python/10%20Academy/all-week%20test/Week%206/notebooks/asset.ipynb#X23sZmlsZQ%3D%3D?line=1'>2</a>\u001b[0m transfer_asset(m,receiver_pk,asset_id2)\n",
      "\u001b[1;32md:\\Projects\\Personal\\python\\10 Academy\\all-week test\\Week 6\\notebooks\\asset.ipynb Cell 18\u001b[0m in \u001b[0;36mtransfer_asset\u001b[1;34m(sender_m, receiver_pk, asset_id)\u001b[0m\n\u001b[0;32m     <a href='vscode-notebook-cell:/d%3A/Projects/Personal/python/10%20Academy/all-week%20test/Week%206/notebooks/asset.ipynb#X23sZmlsZQ%3D%3D?line=11'>12</a>\u001b[0m txn \u001b[39m=\u001b[39m AssetTransferTxn(\n\u001b[0;32m     <a href='vscode-notebook-cell:/d%3A/Projects/Personal/python/10%20Academy/all-week%20test/Week%206/notebooks/asset.ipynb#X23sZmlsZQ%3D%3D?line=12'>13</a>\u001b[0m     sender\u001b[39m=\u001b[39msender_pk,\n\u001b[0;32m     <a href='vscode-notebook-cell:/d%3A/Projects/Personal/python/10%20Academy/all-week%20test/Week%206/notebooks/asset.ipynb#X23sZmlsZQ%3D%3D?line=13'>14</a>\u001b[0m     sp\u001b[39m=\u001b[39mparams,\n\u001b[0;32m     <a href='vscode-notebook-cell:/d%3A/Projects/Personal/python/10%20Academy/all-week%20test/Week%206/notebooks/asset.ipynb#X23sZmlsZQ%3D%3D?line=14'>15</a>\u001b[0m     receiver\u001b[39m=\u001b[39mreceiver_pk,\n\u001b[0;32m     <a href='vscode-notebook-cell:/d%3A/Projects/Personal/python/10%20Academy/all-week%20test/Week%206/notebooks/asset.ipynb#X23sZmlsZQ%3D%3D?line=15'>16</a>\u001b[0m     amt\u001b[39m=\u001b[39m\u001b[39m1\u001b[39m,\n\u001b[0;32m     <a href='vscode-notebook-cell:/d%3A/Projects/Personal/python/10%20Academy/all-week%20test/Week%206/notebooks/asset.ipynb#X23sZmlsZQ%3D%3D?line=16'>17</a>\u001b[0m     index\u001b[39m=\u001b[39masset_id)\n\u001b[0;32m     <a href='vscode-notebook-cell:/d%3A/Projects/Personal/python/10%20Academy/all-week%20test/Week%206/notebooks/asset.ipynb#X23sZmlsZQ%3D%3D?line=17'>18</a>\u001b[0m stxn \u001b[39m=\u001b[39m txn\u001b[39m.\u001b[39msign(sender_sk)\n\u001b[1;32m---> <a href='vscode-notebook-cell:/d%3A/Projects/Personal/python/10%20Academy/all-week%20test/Week%206/notebooks/asset.ipynb#X23sZmlsZQ%3D%3D?line=18'>19</a>\u001b[0m txid \u001b[39m=\u001b[39m algod_client\u001b[39m.\u001b[39;49msend_transaction(stxn)\n\u001b[0;32m     <a href='vscode-notebook-cell:/d%3A/Projects/Personal/python/10%20Academy/all-week%20test/Week%206/notebooks/asset.ipynb#X23sZmlsZQ%3D%3D?line=19'>20</a>\u001b[0m \u001b[39mprint\u001b[39m(txid)\n\u001b[0;32m     <a href='vscode-notebook-cell:/d%3A/Projects/Personal/python/10%20Academy/all-week%20test/Week%206/notebooks/asset.ipynb#X23sZmlsZQ%3D%3D?line=20'>21</a>\u001b[0m \u001b[39m# Wait for the transaction to be confirmed\u001b[39;00m\n",
      "File \u001b[1;32mc:\\Users\\Natnael\\AppData\\Local\\Programs\\Python\\Python310\\lib\\site-packages\\algosdk\\v2client\\algod.py:237\u001b[0m, in \u001b[0;36mAlgodClient.send_transaction\u001b[1;34m(self, txn, **kwargs)\u001b[0m\n\u001b[0;32m    224\u001b[0m \u001b[39m\"\"\"\u001b[39;00m\n\u001b[0;32m    225\u001b[0m \u001b[39mBroadcast a signed transaction object to the network.\u001b[39;00m\n\u001b[0;32m    226\u001b[0m \n\u001b[1;32m   (...)\u001b[0m\n\u001b[0;32m    232\u001b[0m \u001b[39m    str: transaction ID\u001b[39;00m\n\u001b[0;32m    233\u001b[0m \u001b[39m\"\"\"\u001b[39;00m\n\u001b[0;32m    234\u001b[0m \u001b[39massert\u001b[39;00m \u001b[39mnot\u001b[39;00m \u001b[39misinstance\u001b[39m(\n\u001b[0;32m    235\u001b[0m     txn, future\u001b[39m.\u001b[39mtransaction\u001b[39m.\u001b[39mTransaction\n\u001b[0;32m    236\u001b[0m ), \u001b[39m\"\u001b[39m\u001b[39mAttempt to send UNSIGNED transaction \u001b[39m\u001b[39m{}\u001b[39;00m\u001b[39m\"\u001b[39m\u001b[39m.\u001b[39mformat(txn)\n\u001b[1;32m--> 237\u001b[0m \u001b[39mreturn\u001b[39;00m \u001b[39mself\u001b[39m\u001b[39m.\u001b[39msend_raw_transaction(\n\u001b[0;32m    238\u001b[0m     encoding\u001b[39m.\u001b[39mmsgpack_encode(txn), \u001b[39m*\u001b[39m\u001b[39m*\u001b[39mkwargs\n\u001b[0;32m    239\u001b[0m )\n",
      "File \u001b[1;32mc:\\Users\\Natnael\\AppData\\Local\\Programs\\Python\\Python310\\lib\\site-packages\\algosdk\\v2client\\algod.py:260\u001b[0m, in \u001b[0;36mAlgodClient.send_raw_transaction\u001b[1;34m(self, txn, **kwargs)\u001b[0m\n\u001b[0;32m    254\u001b[0m headers \u001b[39m=\u001b[39m util\u001b[39m.\u001b[39mbuild_headers_from(\n\u001b[0;32m    255\u001b[0m     kwargs\u001b[39m.\u001b[39mget(\u001b[39m\"\u001b[39m\u001b[39mheaders\u001b[39m\u001b[39m\"\u001b[39m, \u001b[39mFalse\u001b[39;00m),\n\u001b[0;32m    256\u001b[0m     {\u001b[39m\"\u001b[39m\u001b[39mContent-Type\u001b[39m\u001b[39m\"\u001b[39m: \u001b[39m\"\u001b[39m\u001b[39mapplication/x-binary\u001b[39m\u001b[39m\"\u001b[39m},\n\u001b[0;32m    257\u001b[0m )\n\u001b[0;32m    258\u001b[0m kwargs[\u001b[39m\"\u001b[39m\u001b[39mheaders\u001b[39m\u001b[39m\"\u001b[39m] \u001b[39m=\u001b[39m headers\n\u001b[1;32m--> 260\u001b[0m \u001b[39mreturn\u001b[39;00m \u001b[39mself\u001b[39m\u001b[39m.\u001b[39malgod_request(\u001b[39m\"\u001b[39m\u001b[39mPOST\u001b[39m\u001b[39m\"\u001b[39m, req, data\u001b[39m=\u001b[39mtxn, \u001b[39m*\u001b[39m\u001b[39m*\u001b[39mkwargs)[\u001b[39m\"\u001b[39m\u001b[39mtxId\u001b[39m\u001b[39m\"\u001b[39m]\n",
      "File \u001b[1;32mc:\\Users\\Natnael\\AppData\\Local\\Programs\\Python\\Python310\\lib\\site-packages\\algosdk\\v2client\\algod.py:85\u001b[0m, in \u001b[0;36mAlgodClient.algod_request\u001b[1;34m(self, method, requrl, params, data, headers, response_format)\u001b[0m\n\u001b[0;32m     83\u001b[0m         e \u001b[39m=\u001b[39m json\u001b[39m.\u001b[39mloads(e)[\u001b[39m\"\u001b[39m\u001b[39mmessage\u001b[39m\u001b[39m\"\u001b[39m]\n\u001b[0;32m     84\u001b[0m     \u001b[39mfinally\u001b[39;00m:\n\u001b[1;32m---> 85\u001b[0m         \u001b[39mraise\u001b[39;00m error\u001b[39m.\u001b[39mAlgodHTTPError(e, code)\n\u001b[0;32m     86\u001b[0m \u001b[39mif\u001b[39;00m response_format \u001b[39m==\u001b[39m \u001b[39m\"\u001b[39m\u001b[39mjson\u001b[39m\u001b[39m\"\u001b[39m:\n\u001b[0;32m     87\u001b[0m     \u001b[39mtry\u001b[39;00m:\n",
      "\u001b[1;31mAlgodHTTPError\u001b[0m: TransactionPool.Remember: transaction 2ATSOIPKG2PPRTQJ5EVCC7C2IDY5QRGLH3ALHRBBLUN3K5TFVPBQ: receiver error: must optin, asset 113736954 missing from JLPXYTO2Z5KJWBG2HJLJHJYCRUNDU2AH6QQOYWA6G6CCGN6NJYSBR62CGA"
     ]
    }
   ],
   "source": [
    "asset_id2=113736954\n",
    "transfer_asset(m,receiver_pk,asset_id2)"
   ]
  },
  {
   "cell_type": "markdown",
   "metadata": {},
   "source": [
    "Get asset id"
   ]
  },
  {
   "cell_type": "code",
   "execution_count": 36,
   "metadata": {},
   "outputs": [
    {
     "name": "stdout",
     "output_type": "stream",
     "text": [
      "--------------------------------------------\n",
      "Creating Asset...\n",
      "Asset Creation Transaction ID: MYRFXKFV3R63NUEG33BEP7VLJ26W7EKANKSYPW5O6COSROOPOE5Q\n",
      "TXID:  MYRFXKFV3R63NUEG33BEP7VLJ26W7EKANKSYPW5O6COSROOPOE5Q\n",
      "Result confirmed in round: 24463182\n",
      "Asset ID: 113737741\n",
      "{\n",
      "    \"creator\": \"EUVBE6MISEX3QLZYERRCPJBJYXXSXM3GQU5DY6EEO7VGAHBFFEZLMXVET4\",\n",
      "    \"decimals\": 0,\n",
      "    \"default-frozen\": false,\n",
      "    \"manager\": \"EUVBE6MISEX3QLZYERRCPJBJYXXSXM3GQU5DY6EEO7VGAHBFFEZLMXVET4\",\n",
      "    \"metadata-hash\": \"5zAUYEQ+kEKv8VCUNu17DMVNzpzRrF7X9JUr+OEfgp4=\",\n",
      "    \"name\": \"Alice's Artwork 001\",\n",
      "    \"name-b64\": \"QWxpY2UncyBBcnR3b3JrIDAwMQ==\",\n",
      "    \"reserve\": \"JLPXYTO2Z5KJWBG2HJLJHJYCRUNDU2AH6QQOYWA6G6CCGN6NJYSBR62CGA\",\n",
      "    \"total\": 1,\n",
      "    \"unit-name\": \"ALICE001\",\n",
      "    \"unit-name-b64\": \"QUxJQ0UwMDE=\",\n",
      "    \"url\": \"https://path/to/my/asset/details\",\n",
      "    \"url-b64\": \"aHR0cHM6Ly9wYXRoL3RvL215L2Fzc2V0L2RldGFpbHM=\"\n",
      "}\n",
      "Asset ID: 113737741\n",
      "{\n",
      "    \"amount\": 1,\n",
      "    \"asset-id\": 113737741,\n",
      "    \"is-frozen\": false\n",
      "}\n"
     ]
    }
   ],
   "source": [
    "create_asset(m,receiver_pk)"
   ]
  },
  {
   "cell_type": "code",
   "execution_count": 37,
   "metadata": {},
   "outputs": [
    {
     "data": {
      "text/plain": [
       "{'address': 'JLPXYTO2Z5KJWBG2HJLJHJYCRUNDU2AH6QQOYWA6G6CCGN6NJYSBR62CGA',\n",
       " 'amount': 4999000,\n",
       " 'amount-without-pending-rewards': 4999000,\n",
       " 'apps-local-state': [],\n",
       " 'apps-total-schema': {'num-byte-slice': 0, 'num-uint': 0},\n",
       " 'assets': [{'amount': 1, 'asset-id': 113735460, 'is-frozen': False}],\n",
       " 'created-apps': [],\n",
       " 'created-assets': [],\n",
       " 'min-balance': 200000,\n",
       " 'pending-rewards': 0,\n",
       " 'reward-base': 27521,\n",
       " 'rewards': 0,\n",
       " 'round': 24463192,\n",
       " 'status': 'Offline',\n",
       " 'total-apps-opted-in': 0,\n",
       " 'total-assets-opted-in': 1,\n",
       " 'total-created-apps': 0,\n",
       " 'total-created-assets': 0}"
      ]
     },
     "execution_count": 37,
     "metadata": {},
     "output_type": "execute_result"
    }
   ],
   "source": [
    "account_info = algod_client.account_info(receiver_pk)\n",
    "# holding = None\n",
    "# idx = 0\n",
    "# for my_account_info in account_info['assets']:\n",
    "#     scrutinized_asset = account_info['assets'][idx]\n",
    "#     idx = idx + 1    \n",
    "#     if (scrutinized_asset['asset-id'] == asset_id):\n",
    "#         holding = True\n",
    "#         break\n",
    "account_info"
   ]
  }
 ],
 "metadata": {
  "kernelspec": {
   "display_name": "Python 3.10.5 64-bit",
   "language": "python",
   "name": "python3"
  },
  "language_info": {
   "codemirror_mode": {
    "name": "ipython",
    "version": 3
   },
   "file_extension": ".py",
   "mimetype": "text/x-python",
   "name": "python",
   "nbconvert_exporter": "python",
   "pygments_lexer": "ipython3",
   "version": "3.10.5"
  },
  "orig_nbformat": 4,
  "vscode": {
   "interpreter": {
    "hash": "b1991c03751bb1ed07063b349673f109e299af7bd2e157024b7d7177e34b5cc3"
   }
  }
 },
 "nbformat": 4,
 "nbformat_minor": 2
}
